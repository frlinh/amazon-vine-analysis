{
  "cells": [
    {
      "cell_type": "code",
      "execution_count": 1,
      "metadata": {
        "colab": {
          "base_uri": "https://localhost:8080/"
        },
        "id": "V58rxea0HqSa",
        "outputId": "9b83a1f2-44b6-4f69-fcab-087d6e006191"
      },
      "outputs": [
        {
          "output_type": "stream",
          "name": "stdout",
          "text": [
            "\r0% [Working]\r            \rGet:1 https://cloud.r-project.org/bin/linux/ubuntu bionic-cran40/ InRelease [3,626 B]\n",
            "\r0% [Connecting to archive.ubuntu.com (185.125.190.36)] [Connecting to security.\r0% [Connecting to archive.ubuntu.com (185.125.190.36)] [Connecting to security.\r0% [1 InRelease gpgv 3,626 B] [Waiting for headers] [Waiting for headers] [Wait\r                                                                               \rHit:2 http://archive.ubuntu.com/ubuntu bionic InRelease\n",
            "\r0% [1 InRelease gpgv 3,626 B] [Waiting for headers] [Waiting for headers] [Wait\r                                                                               \rGet:3 http://ppa.launchpad.net/c2d4u.team/c2d4u4.0+/ubuntu bionic InRelease [15.9 kB]\n",
            "\r0% [1 InRelease gpgv 3,626 B] [Waiting for headers] [Waiting for headers] [Wait\r                                                                               \rGet:4 http://security.ubuntu.com/ubuntu bionic-security InRelease [88.7 kB]\n",
            "\r0% [1 InRelease gpgv 3,626 B] [Waiting for headers] [4 InRelease 8,380 B/88.7 k\r                                                                               \rIgn:5 https://developer.download.nvidia.com/compute/machine-learning/repos/ubuntu1804/x86_64  InRelease\n",
            "\r0% [1 InRelease gpgv 3,626 B] [Waiting for headers] [4 InRelease 14.2 kB/88.7 k\r                                                                               \rGet:6 https://developer.download.nvidia.com/compute/cuda/repos/ubuntu1804/x86_64  InRelease [1,581 B]\n",
            "\r0% [1 InRelease gpgv 3,626 B] [Waiting for headers] [4 InRelease 14.2 kB/88.7 k\r0% [1 InRelease gpgv 3,626 B] [Waiting for headers] [4 InRelease 14.2 kB/88.7 k\r                                                                               \rGet:7 http://archive.ubuntu.com/ubuntu bionic-updates InRelease [88.7 kB]\n",
            "Hit:8 https://developer.download.nvidia.com/compute/machine-learning/repos/ubuntu1804/x86_64  Release\n",
            "Hit:9 http://ppa.launchpad.net/cran/libgit2/ubuntu bionic InRelease\n",
            "Get:10 http://archive.ubuntu.com/ubuntu bionic-backports InRelease [74.6 kB]\n",
            "Get:11 http://ppa.launchpad.net/deadsnakes/ppa/ubuntu bionic InRelease [15.9 kB]\n",
            "Hit:12 http://ppa.launchpad.net/graphics-drivers/ppa/ubuntu bionic InRelease\n",
            "Get:13 https://developer.download.nvidia.com/compute/cuda/repos/ubuntu1804/x86_64  Packages [903 kB]\n",
            "Get:14 http://ppa.launchpad.net/c2d4u.team/c2d4u4.0+/ubuntu bionic/main Sources [2,077 kB]\n",
            "Get:16 http://ppa.launchpad.net/c2d4u.team/c2d4u4.0+/ubuntu bionic/main amd64 Packages [1,064 kB]\n",
            "Get:17 http://security.ubuntu.com/ubuntu bionic-security/main amd64 Packages [2,937 kB]\n",
            "Get:18 http://security.ubuntu.com/ubuntu bionic-security/universe amd64 Packages [1,533 kB]\n",
            "Get:19 http://security.ubuntu.com/ubuntu bionic-security/restricted amd64 Packages [1,100 kB]\n",
            "Get:20 http://archive.ubuntu.com/ubuntu bionic-updates/restricted amd64 Packages [1,141 kB]\n",
            "Get:21 http://archive.ubuntu.com/ubuntu bionic-updates/universe amd64 Packages [2,310 kB]\n",
            "Get:22 http://archive.ubuntu.com/ubuntu bionic-updates/main amd64 Packages [3,369 kB]\n",
            "Get:23 http://ppa.launchpad.net/deadsnakes/ppa/ubuntu bionic/main amd64 Packages [45.3 kB]\n",
            "Fetched 16.8 MB in 5s (3,098 kB/s)\n",
            "Reading package lists... Done\n"
          ]
        }
      ],
      "source": [
        "import os\n",
        "# Find the latest version of spark 3.0 from http://www.apache.org/dist/spark/ and enter as the spark version\n",
        "# For example:\n",
        "# spark_version = 'spark-3.0.3'\n",
        "spark_version = 'spark-3.0.3'\n",
        "os.environ['SPARK_VERSION']=spark_version\n",
        "\n",
        "# Install Spark and Java\n",
        "!apt-get update\n",
        "!apt-get install openjdk-11-jdk-headless -qq > /dev/null\n",
        "!wget -q http://www.apache.org/dist/spark/$SPARK_VERSION/$SPARK_VERSION-bin-hadoop2.7.tgz\n",
        "!tar xf $SPARK_VERSION-bin-hadoop2.7.tgz\n",
        "!pip install -q findspark\n",
        "\n",
        "# Set Environment Variables\n",
        "import os\n",
        "os.environ[\"JAVA_HOME\"] = \"/usr/lib/jvm/java-11-openjdk-amd64\"\n",
        "os.environ[\"SPARK_HOME\"] = f\"/content/{spark_version}-bin-hadoop2.7\"\n",
        "\n",
        "# Start a SparkSession\n",
        "import findspark\n",
        "findspark.init()"
      ]
    },
    {
      "cell_type": "code",
      "execution_count": 2,
      "metadata": {
        "colab": {
          "base_uri": "https://localhost:8080/"
        },
        "id": "_xKwTpATHqSe",
        "outputId": "0f6e0646-2f33-488f-818e-789ff5bfa39e"
      },
      "outputs": [
        {
          "output_type": "stream",
          "name": "stdout",
          "text": [
            "--2022-08-11 04:53:12--  https://jdbc.postgresql.org/download/postgresql-42.2.16.jar\n",
            "Resolving jdbc.postgresql.org (jdbc.postgresql.org)... 72.32.157.228, 2001:4800:3e1:1::228\n",
            "Connecting to jdbc.postgresql.org (jdbc.postgresql.org)|72.32.157.228|:443... connected.\n",
            "HTTP request sent, awaiting response... 200 OK\n",
            "Length: 1002883 (979K) [application/java-archive]\n",
            "Saving to: ‘postgresql-42.2.16.jar’\n",
            "\n",
            "postgresql-42.2.16. 100%[===================>] 979.38K  4.67MB/s    in 0.2s    \n",
            "\n",
            "2022-08-11 04:53:13 (4.67 MB/s) - ‘postgresql-42.2.16.jar’ saved [1002883/1002883]\n",
            "\n"
          ]
        }
      ],
      "source": [
        "# Download the Postgres driver that will allow Spark to interact with Postgres.\n",
        "!wget https://jdbc.postgresql.org/download/postgresql-42.2.16.jar"
      ]
    },
    {
      "cell_type": "code",
      "execution_count": 3,
      "metadata": {
        "id": "MMqDAjVS0KN9"
      },
      "outputs": [],
      "source": [
        "from pyspark.sql import SparkSession\n",
        "spark = SparkSession.builder.appName(\"M16-Amazon-Challenge\").config(\"spark.driver.extraClassPath\",\"/content/postgresql-42.2.16.jar\").getOrCreate()"
      ]
    },
    {
      "cell_type": "markdown",
      "metadata": {
        "id": "cyBsySGuY-9V"
      },
      "source": [
        "### Load Amazon Data into Spark DataFrame"
      ]
    },
    {
      "cell_type": "code",
      "execution_count": 4,
      "metadata": {
        "id": "CtCmBhQJY-9Z",
        "colab": {
          "base_uri": "https://localhost:8080/"
        },
        "outputId": "9b39a62d-0775-487a-e8fc-9824b5a30381"
      },
      "outputs": [
        {
          "output_type": "stream",
          "name": "stdout",
          "text": [
            "+-----------+-----------+--------------+----------+--------------+--------------------+----------------+-----------+-------------+-----------+----+-----------------+--------------------+--------------------+-----------+\n",
            "|marketplace|customer_id|     review_id|product_id|product_parent|       product_title|product_category|star_rating|helpful_votes|total_votes|vine|verified_purchase|     review_headline|         review_body|review_date|\n",
            "+-----------+-----------+--------------+----------+--------------+--------------------+----------------+-----------+-------------+-----------+----+-----------------+--------------------+--------------------+-----------+\n",
            "|         US|   12039526| RTIS3L2M1F5SM|B001CXYMFS|     737716809|Thrustmaster T-Fl...|     Video Games|          5|            0|          0|   N|                Y|an amazing joysti...|Used this for Eli...| 2015-08-31|\n",
            "|         US|    9636577| R1ZV7R40OLHKD|B00M920ND6|     569686175|Tonsee 6 buttons ...|     Video Games|          5|            0|          0|   N|                Y|Definitely a sile...|Loved it,  I didn...| 2015-08-31|\n",
            "|         US|    2331478|R3BH071QLH8QMC|B0029CSOD2|      98937668|Hidden Mysteries:...|     Video Games|          1|            0|          1|   N|                Y|            One Star|poor quality work...| 2015-08-31|\n",
            "|         US|   52495923|R127K9NTSXA2YH|B00GOOSV98|      23143350|GelTabz Performan...|     Video Games|          3|            0|          0|   N|                Y|good, but could b...|nice, but tend to...| 2015-08-31|\n",
            "|         US|   14533949|R32ZWUXDJPW27Q|B00Y074JOM|     821342511|Zero Suit Samus a...|     Video Games|          4|            0|          0|   N|                Y|   Great but flawed.|Great amiibo, gre...| 2015-08-31|\n",
            "|         US|    2377552|R3AQQ4YUKJWBA6|B002UBI6W6|     328764615|Psyclone Recharge...|     Video Games|          1|            0|          0|   N|                Y|            One Star|The remote consta...| 2015-08-31|\n",
            "|         US|   17521011|R2F0POU5K6F73F|B008XHCLFO|      24234603|Protection for yo...|     Video Games|          5|            0|          0|   N|                Y|              A Must|I have a 2012-201...| 2015-08-31|\n",
            "|         US|   19676307|R3VNR804HYSMR6|B00BRA9R6A|     682267517|   Nerf 3DS XL Armor|     Video Games|          5|            0|          0|   N|                Y|          Five Stars|Perfect, kids lov...| 2015-08-31|\n",
            "|         US|     224068| R3GZTM72WA2QH|B009EPWJLA|     435241890|One Piece: Pirate...|     Video Games|          5|            0|          0|   N|                Y|          Five Stars|            Excelent| 2015-08-31|\n",
            "|         US|   48467989| RNQOY62705W1K|B0000AV7GB|     256572651|Playstation 2 Dan...|     Video Games|          4|            0|          0|   N|                Y|          Four Stars|Slippery but expe...| 2015-08-31|\n",
            "|         US|     106569|R1VTIA3JTYBY02|B00008KTNN|     384411423|Metal Arms: Glitc...|     Video Games|          5|            0|          0|   N|                N|          Five Stars|Love the game. Se...| 2015-08-31|\n",
            "|         US|   48269642|R29DOU8791QZL8|B000A3IA0Y|     472622859|72 Pin Connector ...|     Video Games|          1|            0|          0|   N|                Y| Game will get stuck|Does not fit prop...| 2015-08-31|\n",
            "|         US|   52738710|R15DUT1VIJ9RJZ|B0053BQN34|     577628462|uDraw Gametablet ...|     Video Games|          2|            0|          0|   N|                Y|We have tried it ...|This was way too ...| 2015-08-31|\n",
            "|         US|   10556786|R3IMF2MQ3OU9ZM|B002I0HIMI|     988218515|NBA 2K12(Covers M...|     Video Games|          4|            0|          0|   N|                Y|          Four Stars|Works great good ...| 2015-08-31|\n",
            "|         US|    2963837|R23H79DHOZTYAU|B0081EH12M|     770100932|New Trigger Grips...|     Video Games|          1|            1|          1|   N|                Y|Now i have to buy...|It did not fit th...| 2015-08-31|\n",
            "|         US|   23092109| RIV24EQAIXA4O|B005FMLZQQ|      24647669|Xbox 360 Media Re...|     Video Games|          5|            0|          0|   N|                Y|          Five Stars|perfect lightweig...| 2015-08-31|\n",
            "|         US|   23091728|R3UCNGYDVN24YB|B002BSA388|      33706205|Super Mario Galaxy 2|     Video Games|          5|            0|          0|   N|                Y|          Five Stars|               great| 2015-08-31|\n",
            "|         US|   10712640| RUL4H4XTTN2DY|B00BUSLSAC|     829667834|Nintendo 3DS XL -...|     Video Games|          5|            0|          0|   N|                Y|          Five Stars|Works beautifully...| 2015-08-31|\n",
            "|         US|   17455376|R20JF7Z4DHTNX5|B00KWF38AW|     110680188|Captain Toad:  Tr...|     Video Games|          5|            0|          0|   N|                Y|          Five Stars|Kids loved the ga...| 2015-08-31|\n",
            "|         US|   14754850|R2T1AJ5MFI2260|B00BRQJYA8|     616463426|Lego Batman 2: DC...|     Video Games|          4|            0|          0|   N|                Y|          Four Stars|           Goodngame| 2015-08-31|\n",
            "+-----------+-----------+--------------+----------+--------------+--------------------+----------------+-----------+-------------+-----------+----+-----------------+--------------------+--------------------+-----------+\n",
            "only showing top 20 rows\n",
            "\n"
          ]
        }
      ],
      "source": [
        "from pyspark import SparkFiles\n",
        "url = \"https://amazonvine-bucket.s3.us-west-1.amazonaws.com/amazon_reviews_us_Video_Games_v1_00.tsv.gz\"\n",
        "spark.sparkContext.addFile(url)\n",
        "df = spark.read.option(\"encoding\", \"UTF-8\").csv(SparkFiles.get(\"\"), sep=\"\\t\", header=True, inferSchema=True)\n",
        "df.show()"
      ]
    },
    {
      "cell_type": "markdown",
      "metadata": {
        "id": "2yUSe55VY-9t"
      },
      "source": [
        "### Create DataFrames to match tables"
      ]
    },
    {
      "cell_type": "code",
      "execution_count": 28,
      "metadata": {
        "id": "C8REmY1aY-9u"
      },
      "outputs": [],
      "source": [
        "from pyspark.sql.functions import to_date\n",
        "from pyspark.sql.functions import col\n",
        "from pyspark.sql.functions import desc\n",
        "# Read in the Review dataset as a DataFrame"
      ]
    },
    {
      "cell_type": "code",
      "execution_count": 29,
      "metadata": {
        "id": "lzMmkdKmY--D",
        "colab": {
          "base_uri": "https://localhost:8080/"
        },
        "outputId": "faee2152-d846-4de6-fce7-5338f9c6a009"
      },
      "outputs": [
        {
          "output_type": "stream",
          "name": "stdout",
          "text": [
            "+--------------------+--------------+-----------+-------------+-----------+----+-----------------+\n",
            "|       product_title|     review_id|star_rating|helpful_votes|total_votes|vine|verified_purchase|\n",
            "+--------------------+--------------+-----------+-------------+-----------+----+-----------------+\n",
            "|Thrustmaster T-Fl...| RTIS3L2M1F5SM|          5|            0|          0|   N|                Y|\n",
            "|Tonsee 6 buttons ...| R1ZV7R40OLHKD|          5|            0|          0|   N|                Y|\n",
            "|Hidden Mysteries:...|R3BH071QLH8QMC|          1|            0|          1|   N|                Y|\n",
            "|GelTabz Performan...|R127K9NTSXA2YH|          3|            0|          0|   N|                Y|\n",
            "|Zero Suit Samus a...|R32ZWUXDJPW27Q|          4|            0|          0|   N|                Y|\n",
            "|Psyclone Recharge...|R3AQQ4YUKJWBA6|          1|            0|          0|   N|                Y|\n",
            "|Protection for yo...|R2F0POU5K6F73F|          5|            0|          0|   N|                Y|\n",
            "|   Nerf 3DS XL Armor|R3VNR804HYSMR6|          5|            0|          0|   N|                Y|\n",
            "|One Piece: Pirate...| R3GZTM72WA2QH|          5|            0|          0|   N|                Y|\n",
            "|Playstation 2 Dan...| RNQOY62705W1K|          4|            0|          0|   N|                Y|\n",
            "|Metal Arms: Glitc...|R1VTIA3JTYBY02|          5|            0|          0|   N|                N|\n",
            "|72 Pin Connector ...|R29DOU8791QZL8|          1|            0|          0|   N|                Y|\n",
            "|uDraw Gametablet ...|R15DUT1VIJ9RJZ|          2|            0|          0|   N|                Y|\n",
            "|NBA 2K12(Covers M...|R3IMF2MQ3OU9ZM|          4|            0|          0|   N|                Y|\n",
            "|New Trigger Grips...|R23H79DHOZTYAU|          1|            1|          1|   N|                Y|\n",
            "|Xbox 360 Media Re...| RIV24EQAIXA4O|          5|            0|          0|   N|                Y|\n",
            "|Super Mario Galaxy 2|R3UCNGYDVN24YB|          5|            0|          0|   N|                Y|\n",
            "|Nintendo 3DS XL -...| RUL4H4XTTN2DY|          5|            0|          0|   N|                Y|\n",
            "|Captain Toad:  Tr...|R20JF7Z4DHTNX5|          5|            0|          0|   N|                Y|\n",
            "|Lego Batman 2: DC...|R2T1AJ5MFI2260|          4|            0|          0|   N|                Y|\n",
            "+--------------------+--------------+-----------+-------------+-----------+----+-----------------+\n",
            "only showing top 20 rows\n",
            "\n"
          ]
        }
      ],
      "source": [
        "# Create the vine_table. DataFrame\n",
        "vine_df = df.select([\"product_title\", \"review_id\", \"star_rating\", \"helpful_votes\", \"total_votes\", \"vine\", \"verified_purchase\"])\n",
        "vine_df.show()"
      ]
    },
    {
      "cell_type": "code",
      "source": [
        "# Create the vine_table 5 star_rating DataFrame\n",
        "vine_df = df.select([\"product_title\", \"review_id\", \"star_rating\", \"helpful_votes\", \"total_votes\", \"vine\", \"verified_purchase\"])\n",
        "vine_5stars_votes_df = vine_df.filter(\"star_rating == 5\")\n",
        "vine_5stars_votes_df.show()"
      ],
      "metadata": {
        "colab": {
          "base_uri": "https://localhost:8080/"
        },
        "id": "4nh8c61eSXcI",
        "outputId": "1dbb17c6-d983-40a9-b199-760a7c57c2ba"
      },
      "execution_count": 41,
      "outputs": [
        {
          "output_type": "stream",
          "name": "stdout",
          "text": [
            "+--------------------+--------------+-----------+-------------+-----------+----+-----------------+\n",
            "|       product_title|     review_id|star_rating|helpful_votes|total_votes|vine|verified_purchase|\n",
            "+--------------------+--------------+-----------+-------------+-----------+----+-----------------+\n",
            "|Thrustmaster T-Fl...| RTIS3L2M1F5SM|          5|            0|          0|   N|                Y|\n",
            "|Tonsee 6 buttons ...| R1ZV7R40OLHKD|          5|            0|          0|   N|                Y|\n",
            "|Protection for yo...|R2F0POU5K6F73F|          5|            0|          0|   N|                Y|\n",
            "|   Nerf 3DS XL Armor|R3VNR804HYSMR6|          5|            0|          0|   N|                Y|\n",
            "|One Piece: Pirate...| R3GZTM72WA2QH|          5|            0|          0|   N|                Y|\n",
            "|Metal Arms: Glitc...|R1VTIA3JTYBY02|          5|            0|          0|   N|                N|\n",
            "|Xbox 360 Media Re...| RIV24EQAIXA4O|          5|            0|          0|   N|                Y|\n",
            "|Super Mario Galaxy 2|R3UCNGYDVN24YB|          5|            0|          0|   N|                Y|\n",
            "|Nintendo 3DS XL -...| RUL4H4XTTN2DY|          5|            0|          0|   N|                Y|\n",
            "|Captain Toad:  Tr...|R20JF7Z4DHTNX5|          5|            0|          0|   N|                Y|\n",
            "|Component HDTV AV...|R2E5BQMWTW9JUQ|          5|            0|          0|   N|                Y|\n",
            "|Wireless Stereo H...|R1UC7WJRQQKU5V|          5|            0|          0|   N|                Y|\n",
            "|      Kingdom Hearts|R3V0YK55IDIW3T|          5|            0|          0|   N|                Y|\n",
            "|           Shadowrun|R14Z48EC6DKJX9|          5|            0|          0|   N|                Y|\n",
            "|Fallout 3: Game o...|R3AACSKX1EAHUY|          5|            1|          1|   N|                Y|\n",
            "|            Gameband|R3D8ELWH0671OJ|          5|            3|          7|   N|                Y|\n",
            "|           Halo Wars|R3IU97WRKS5SLN|          5|            0|          0|   N|                Y|\n",
            "|Kingdom Hearts 3D...| RJOF64DZUKQ3D|          5|            0|          0|   N|                Y|\n",
            "|Sony PlayStation ...|R3GXKE92MJBBSL|          5|            0|          0|   N|                Y|\n",
            "|    NBA Street Vol 2|R3EKZ2GTIPQ3ZL|          5|            0|          1|   N|                Y|\n",
            "+--------------------+--------------+-----------+-------------+-----------+----+-----------------+\n",
            "only showing top 20 rows\n",
            "\n"
          ]
        }
      ]
    },
    {
      "cell_type": "code",
      "source": [
        "# Sort 5 stars review by most helpful and voted\n",
        "vine_5stars_votes_df.orderBy(col(\"total_votes\").desc(),col(\"helpful_votes\").desc()).show(truncate=False)"
      ],
      "metadata": {
        "colab": {
          "base_uri": "https://localhost:8080/"
        },
        "id": "9ZZGaB8pWyS0",
        "outputId": "e046a67e-186d-44e2-ca0e-2794c52f2b43"
      },
      "execution_count": 49,
      "outputs": [
        {
          "output_type": "stream",
          "name": "stdout",
          "text": [
            "+--------------------------------------------------------------------+--------------+-----------+-------------+-----------+----+-----------------+\n",
            "|product_title                                                       |review_id     |star_rating|helpful_votes|total_votes|vine|verified_purchase|\n",
            "+--------------------------------------------------------------------+--------------+-----------+-------------+-----------+----+-----------------+\n",
            "|Diablo III - PC/Mac                                                 |R2E1992AEAUA8Z|5          |4105         |4649       |N   |N                |\n",
            "|Nintendo Wii Console                                                |R1CY66TNX7N4RX|5          |3873         |4143       |N   |N                |\n",
            "|PlayStation Headsets                                                |R1875IL2IWLFSZ|5          |3505         |3658       |N   |Y                |\n",
            "|SimCity - Limited Edition                                           |R3BQ88T77DIPNS|5          |2567         |3029       |N   |N                |\n",
            "|Wii Fit Plus with Balance Board                                     |R2XTDZYK652OQA|5          |2990         |3018       |N   |N                |\n",
            "|PlayStation 4 500GB Console [Old Model]                             |R2ZNA17DRXCXIW|5          |2360         |2799       |N   |Y                |\n",
            "|PlayStation 3                                                       |R2BOJDNW0G80JJ|5          |2403         |2763       |N   |N                |\n",
            "|Nintendo Amiibo                                                     |RNHNYJBVYBAOG |5          |2361         |2672       |N   |Y                |\n",
            "|PlayStation 3 Slim 120GB (Old Model)                                |R2KGL2PTIUMUKK|5          |2189         |2355       |N   |Y                |\n",
            "|Sony Playstation 3 Console 80GB - Black                             |RDQBQXOXTHLP7 |5          |2098         |2140       |N   |N                |\n",
            "|Xbox 360 Live Points Card                                           |R2K2LPEAN3MYN3|5          |1594         |1827       |N   |N                |\n",
            "|The Sims 2                                                          |R35Y5RH3IHI1RZ|5          |1411         |1503       |N   |N                |\n",
            "|Xbox One + Kinect                                                   |R6XZQF7072PY0 |5          |1333         |1478       |N   |N                |\n",
            "|Kinect Sensor with Kinect Adventures!                               |R2TAPGUXUMDP3V|5          |1277         |1382       |N   |N                |\n",
            "|Zettaguard Wireless PC USB Gaming Receiver for Xbox 360 Compact Disc|R18I22S6RFD42U|5          |1342         |1377       |N   |Y                |\n",
            "|EA Sports Active                                                    |R2KXJ0UFDCZYOH|5          |1313         |1330       |N   |Y                |\n",
            "|Wii Fit Game with Balance Board                                     |RKGHGPHILRQ9E |5          |1241         |1313       |N   |N                |\n",
            "|Wii Fit Plus                                                        |R82QWUJUHAGM8 |5          |1230         |1246       |N   |N                |\n",
            "|Gold's Gym Dance Workout - Nintendo Wii                             |R24UDT32P2KJ3 |5          |1157         |1172       |N   |N                |\n",
            "|Zumba Fitness                                                       |R2S4Y4DWYZTP13|5          |1152         |1169       |N   |N                |\n",
            "+--------------------------------------------------------------------+--------------+-----------+-------------+-----------+----+-----------------+\n",
            "only showing top 20 rows\n",
            "\n"
          ]
        }
      ]
    },
    {
      "cell_type": "code",
      "source": [
        "# Count number of reviews\n",
        "vine_df.count()"
      ],
      "metadata": {
        "colab": {
          "base_uri": "https://localhost:8080/"
        },
        "id": "-zn4LSTLZe6X",
        "outputId": "0197f27c-ce7d-4a18-c83b-4cc153da3603"
      },
      "execution_count": 56,
      "outputs": [
        {
          "output_type": "execute_result",
          "data": {
            "text/plain": [
              "1785997"
            ]
          },
          "metadata": {},
          "execution_count": 56
        }
      ]
    },
    {
      "cell_type": "code",
      "source": [
        "vine_5stars_votes_df.count()"
      ],
      "metadata": {
        "colab": {
          "base_uri": "https://localhost:8080/"
        },
        "id": "Vc60tMUzaBjN",
        "outputId": "98febbe2-a3ec-4cb2-dd18-70fe678ce6d3"
      },
      "execution_count": 57,
      "outputs": [
        {
          "output_type": "execute_result",
          "data": {
            "text/plain": [
              "1026924"
            ]
          },
          "metadata": {},
          "execution_count": 57
        }
      ]
    },
    {
      "cell_type": "code",
      "source": [
        "# Deliverable 2 - Create a DataFrame or table where there are 20 or more total votes\n",
        "vine_df_morethan20votes = vine_df.filter(\"total_votes>=20\")\n",
        "vine_df_morethan20votes.orderBy(col(\"total_votes\").desc()).show(truncate=False)"
      ],
      "metadata": {
        "colab": {
          "base_uri": "https://localhost:8080/"
        },
        "id": "H4sHmG7naYzO",
        "outputId": "452e3693-8cae-4afc-e7a1-1c22ae3f463f"
      },
      "execution_count": 60,
      "outputs": [
        {
          "output_type": "stream",
          "name": "stdout",
          "text": [
            "+---------------------------------------+--------------+-----------+-------------+-----------+----+-----------------+\n",
            "|product_title                          |review_id     |star_rating|helpful_votes|total_votes|vine|verified_purchase|\n",
            "+---------------------------------------+--------------+-----------+-------------+-----------+----+-----------------+\n",
            "|SimCity - Limited Edition              |R3HI7AMO8MJ9PF|1          |10498        |10780      |N   |N                |\n",
            "|Spore                                  |RK9RKIUMYF757 |1          |8650         |9459       |N   |N                |\n",
            "|Assassin's Creed Unity                 |RTDOWG8IG081J |1          |5141         |5334       |N   |N                |\n",
            "|Diablo III - PC/Mac                    |R2E1992AEAUA8Z|5          |4105         |4649       |N   |N                |\n",
            "|Nintendo Wii Console                   |R1CY66TNX7N4RX|5          |3873         |4143       |N   |N                |\n",
            "|Sony Playstation 3 160GB System        |R234OYV0YWWO93|4          |3744         |4066       |N   |Y                |\n",
            "|PlayStation Headsets                   |R1875IL2IWLFSZ|5          |3505         |3658       |N   |Y                |\n",
            "|Diablo III - PC/Mac                    |R1HMZ8KIMMK4TD|1          |2986         |3351       |N   |Y                |\n",
            "|Spore                                  |R2BCG8O8BZKG5R|1          |2829         |3251       |N   |N                |\n",
            "|SimCity - Limited Edition              |R3BQ88T77DIPNS|5          |2567         |3029       |N   |N                |\n",
            "|Wii Fit Plus with Balance Board        |R2XTDZYK652OQA|5          |2990         |3018       |N   |N                |\n",
            "|StarCraft II                           |RA9LTNYZ1L6X2 |3          |2474         |2873       |N   |N                |\n",
            "|PlayStation 4 500GB Console [Old Model]|R2ZNA17DRXCXIW|5          |2360         |2799       |N   |Y                |\n",
            "|PlayStation 3                          |R2BOJDNW0G80JJ|5          |2403         |2763       |N   |N                |\n",
            "|Nintendo Amiibo                        |RNHNYJBVYBAOG |5          |2361         |2672       |N   |Y                |\n",
            "|Sid Meier's Civilization V             |R1ADLMFZZPJIGY|2          |2211         |2391       |N   |N                |\n",
            "|PlayStation 3 Slim 120GB (Old Model)   |R2KGL2PTIUMUKK|5          |2189         |2355       |N   |Y                |\n",
            "|Spore                                  |R1RCSQKLOCRHKA|1          |1917         |2272       |N   |N                |\n",
            "|BioShock                               |R3DYE5TLL1IIC6|1          |1953         |2222       |N   |N                |\n",
            "|SimCity - Limited Edition              |R289KCM8XVQSQQ|1          |2066         |2154       |N   |Y                |\n",
            "+---------------------------------------+--------------+-----------+-------------+-----------+----+-----------------+\n",
            "only showing top 20 rows\n",
            "\n"
          ]
        }
      ]
    },
    {
      "cell_type": "code",
      "source": [
        "# Deliverable 2 - Create a DataFrame or table where the percentage of helpful_votes is equal to or greater than 50%\n",
        "vine_df_helpful = vine_df_morethan20votes.filter((vine_df_morethan20votes[\"helpful_votes\"])/(vine_df_morethan20votes[\"total_votes\"]) >= 0.50)\n",
        "vine_df_helpful.show()"
      ],
      "metadata": {
        "colab": {
          "base_uri": "https://localhost:8080/"
        },
        "id": "Zw6msAkUahDS",
        "outputId": "74b011b2-8c07-40e8-bcdb-1a338dc01ecd"
      },
      "execution_count": 61,
      "outputs": [
        {
          "output_type": "stream",
          "name": "stdout",
          "text": [
            "+--------------------+--------------+-----------+-------------+-----------+----+-----------------+\n",
            "|       product_title|     review_id|star_rating|helpful_votes|total_votes|vine|verified_purchase|\n",
            "+--------------------+--------------+-----------+-------------+-----------+----+-----------------+\n",
            "|Valve - DOTA 2 St...| R4PKAZRQJJX14|          1|           21|         34|   N|                N|\n",
            "|ONE PIECE Pirate ...|R2CI0Y288CC7E2|          1|           21|         35|   N|                Y|\n",
            "|       Madden NFL 16|R127WEQY2FM1T3|          1|          147|        175|   N|                Y|\n",
            "|Infinity 3.0 Star...|R2FJ94555FZH32|          2|           55|         60|   N|                N|\n",
            "|       Madden NFL 16|R1U3AR67RE273L|          1|           51|         65|   N|                Y|\n",
            "|Infinity 3.0 Star...|R3PZOXA5X1U8KW|          4|           31|         36|   N|                N|\n",
            "|Xbox One 500GB Co...| R6KTC1OPIOIIG|          2|           19|         34|   N|                Y|\n",
            "|Disney Infinity 3...|R36O341WWXXKNP|          5|           28|         31|   N|                N|\n",
            "|Microsoft Xbox On...|R10LZVBLQHBVJ0|          2|          151|        198|   N|                N|\n",
            "|SmaAcc Cooling Fa...|R1VR5GLGY1GE7N|          1|           49|         51|   N|                Y|\n",
            "|       Madden NFL 16|R2OWDAR0EDEPTF|          1|           23|         28|   N|                N|\n",
            "|Madden NFL 16 - P...|R29BOS5HMAY1LO|          5|           88|        110|   N|                N|\n",
            "|       Madden NFL 16| R8WD0136CETA7|          2|           99|        119|   N|                N|\n",
            "|       Madden NFL 16|R16621F16PQN5A|          3|           24|         31|   N|                Y|\n",
            "|     Google Play $10|R1LXBPG1M9DDOC|          1|          102|        106|   N|                N|\n",
            "|       Madden NFL 16| RNEMGSUKJ4535|          2|           21|         25|   N|                Y|\n",
            "|       Madden NFL 16|R3R2UKBFKP1IQ4|          1|           19|         23|   N|                Y|\n",
            "|       Madden NFL 16|R2T90XM5G2DBZA|          3|           15|         22|   N|                Y|\n",
            "|       Madden NFL 16| R5ZMK0Y0KRBRZ|          1|           79|         91|   N|                N|\n",
            "|Madden NFL 16 - P...|R12E2W0XOV3I2S|          1|           24|         30|   N|                Y|\n",
            "+--------------------+--------------+-----------+-------------+-----------+----+-----------------+\n",
            "only showing top 20 rows\n",
            "\n"
          ]
        }
      ]
    },
    {
      "cell_type": "code",
      "source": [
        "# Deliverable 2 - Create a DataFrame or table where there is a Vine Review\n",
        "vine_df_yes = vine_df_helpful.filter(vine_df_helpful[\"vine\"] == \"Y\")\n",
        "vine_df_yes.show()"
      ],
      "metadata": {
        "colab": {
          "base_uri": "https://localhost:8080/"
        },
        "id": "2_rcgwC6ahYc",
        "outputId": "50003c8e-a3a0-4a0d-ab29-d7103cf387e4"
      },
      "execution_count": 62,
      "outputs": [
        {
          "output_type": "stream",
          "name": "stdout",
          "text": [
            "+--------------------+--------------+-----------+-------------+-----------+----+-----------------+\n",
            "|       product_title|     review_id|star_rating|helpful_votes|total_votes|vine|verified_purchase|\n",
            "+--------------------+--------------+-----------+-------------+-----------+----+-----------------+\n",
            "|Turtle Beach - Ea...|R3KKUSGFZWSUIY|          5|           56|         63|   Y|                N|\n",
            "|PDP AG7 True Wire...|R10FO5UKKVZBK2|          3|           23|         23|   Y|                N|\n",
            "|Turtle Beach - Ea...| RM4KSGEOR7MU1|          5|           19|         24|   Y|                N|\n",
            "|Antec X-1 Cooler ...| RG7VRMYLEXD23|          4|           22|         26|   Y|                N|\n",
            "|Turtle Beach - Ea...|R11O4YSCPSNL6L|          3|           20|         26|   Y|                N|\n",
            "|Turtle Beach Ear ...|R286MFBAJ8NPD6|          5|           46|         51|   Y|                N|\n",
            "|Turtle Beach - Ea...|R1JRR530H4COA2|          5|           22|         28|   Y|                N|\n",
            "|Turtle Beach Ear ...| RQ5WD90PUNBU9|          5|           21|         24|   Y|                N|\n",
            "|Turtle Beach Ear ...|R12648VHCQWUV9|          4|           21|         28|   Y|                N|\n",
            "|Turtle Beach - i3...|R3KAW29CJ8L6DQ|          5|           17|         20|   Y|                N|\n",
            "|Turtle Beach Ear ...|R1OWK33OPI45KT|          5|           55|         58|   Y|                N|\n",
            "|PDP Wired Fight P...|R2UP7VTED8O425|          5|           35|         41|   Y|                N|\n",
            "|Turtle Beach - Ea...|R3N4QAXTQCA1ED|          5|           18|         20|   Y|                N|\n",
            "|Turtle Beach Ear ...|R3EPHK0JGQGE91|          5|           21|         28|   Y|                N|\n",
            "|Disney INFINITY 2...| RCP3KRO47S0GG|          4|           51|         58|   Y|                N|\n",
            "|Turtle Beach - Ea...|R3JT907UUA1WUI|          4|           85|        103|   Y|                N|\n",
            "|Turtle Beach - Ea...| RY0555ILXIYXW|          5|           38|         50|   Y|                N|\n",
            "|Turtle Beach - Ea...|R24PS9N276OXF4|          5|          241|        262|   Y|                N|\n",
            "|Turtle Beach - Ea...|R3R0F8ETAGTIOT|          5|           14|         20|   Y|                N|\n",
            "|Turtle Beach - Ea...| ROXZOMHBY8Y9S|          4|           21|         23|   Y|                N|\n",
            "+--------------------+--------------+-----------+-------------+-----------+----+-----------------+\n",
            "only showing top 20 rows\n",
            "\n"
          ]
        }
      ]
    },
    {
      "cell_type": "code",
      "source": [
        "# Deliverable 2 - Create a DataFrame or table where there isn't a Vine Review\n",
        "vine_df_no = vine_df_helpful.filter(vine_df_helpful[\"vine\"] == \"N\")\n",
        "vine_df_no.show()"
      ],
      "metadata": {
        "colab": {
          "base_uri": "https://localhost:8080/"
        },
        "id": "a7spfsKta-jI",
        "outputId": "436848ce-2729-431f-f009-f2fc3301a7cd"
      },
      "execution_count": 63,
      "outputs": [
        {
          "output_type": "stream",
          "name": "stdout",
          "text": [
            "+--------------------+--------------+-----------+-------------+-----------+----+-----------------+\n",
            "|       product_title|     review_id|star_rating|helpful_votes|total_votes|vine|verified_purchase|\n",
            "+--------------------+--------------+-----------+-------------+-----------+----+-----------------+\n",
            "|Valve - DOTA 2 St...| R4PKAZRQJJX14|          1|           21|         34|   N|                N|\n",
            "|ONE PIECE Pirate ...|R2CI0Y288CC7E2|          1|           21|         35|   N|                Y|\n",
            "|       Madden NFL 16|R127WEQY2FM1T3|          1|          147|        175|   N|                Y|\n",
            "|Infinity 3.0 Star...|R2FJ94555FZH32|          2|           55|         60|   N|                N|\n",
            "|       Madden NFL 16|R1U3AR67RE273L|          1|           51|         65|   N|                Y|\n",
            "|Infinity 3.0 Star...|R3PZOXA5X1U8KW|          4|           31|         36|   N|                N|\n",
            "|Xbox One 500GB Co...| R6KTC1OPIOIIG|          2|           19|         34|   N|                Y|\n",
            "|Disney Infinity 3...|R36O341WWXXKNP|          5|           28|         31|   N|                N|\n",
            "|Microsoft Xbox On...|R10LZVBLQHBVJ0|          2|          151|        198|   N|                N|\n",
            "|SmaAcc Cooling Fa...|R1VR5GLGY1GE7N|          1|           49|         51|   N|                Y|\n",
            "|       Madden NFL 16|R2OWDAR0EDEPTF|          1|           23|         28|   N|                N|\n",
            "|Madden NFL 16 - P...|R29BOS5HMAY1LO|          5|           88|        110|   N|                N|\n",
            "|       Madden NFL 16| R8WD0136CETA7|          2|           99|        119|   N|                N|\n",
            "|       Madden NFL 16|R16621F16PQN5A|          3|           24|         31|   N|                Y|\n",
            "|     Google Play $10|R1LXBPG1M9DDOC|          1|          102|        106|   N|                N|\n",
            "|       Madden NFL 16| RNEMGSUKJ4535|          2|           21|         25|   N|                Y|\n",
            "|       Madden NFL 16|R3R2UKBFKP1IQ4|          1|           19|         23|   N|                Y|\n",
            "|       Madden NFL 16|R2T90XM5G2DBZA|          3|           15|         22|   N|                Y|\n",
            "|       Madden NFL 16| R5ZMK0Y0KRBRZ|          1|           79|         91|   N|                N|\n",
            "|Madden NFL 16 - P...|R12E2W0XOV3I2S|          1|           24|         30|   N|                Y|\n",
            "+--------------------+--------------+-----------+-------------+-----------+----+-----------------+\n",
            "only showing top 20 rows\n",
            "\n"
          ]
        }
      ]
    },
    {
      "cell_type": "code",
      "source": [
        "# Deliverable 2 - The total number of reviews, the number of 5-star reviews, and the percentage 5-star reviews are calculated for all Vine and non-Vine reviews\n",
        "vine_yes_total = vine_df_yes.count()\n",
        "vine_yes_fivestar = vine_df_yes.filter(\"star_rating=5\").count()\n",
        "vine_yes_percentage = (vine_yes_fivestar / vine_yes_total) * 100\n",
        "\n",
        "vine_no_total = vine_df_no.count()\n",
        "vine_no_fivestar = vine_df_no.filter(\"star_rating=5\").count()\n",
        "vine_no_percentage = (vine_no_fivestar / vine_no_total) * 100\n",
        "\n",
        "summary_df = spark.createDataFrame([(\"Yes\", vine_yes_total, vine_yes_fivestar, vine_yes_percentage), (\"No\", vine_no_total, vine_no_fivestar, vine_no_percentage)], [\"Vine Review\", \"Total Reviews\", \"Five Star Reviews\", \"% Five Star\"])\n",
        "\n",
        "summary_df.show()"
      ],
      "metadata": {
        "colab": {
          "base_uri": "https://localhost:8080/"
        },
        "id": "m4bfwSRTa-un",
        "outputId": "bec64942-8e6a-4ee9-c0ce-03a29baa5151"
      },
      "execution_count": 64,
      "outputs": [
        {
          "output_type": "stream",
          "name": "stdout",
          "text": [
            "+-----------+-------------+-----------------+------------------+\n",
            "|Vine Review|Total Reviews|Five Star Reviews|       % Five Star|\n",
            "+-----------+-------------+-----------------+------------------+\n",
            "|        Yes|           94|               48| 51.06382978723404|\n",
            "|         No|        40471|            15663|38.701786464381904|\n",
            "+-----------+-------------+-----------------+------------------+\n",
            "\n"
          ]
        }
      ]
    },
    {
      "cell_type": "markdown",
      "metadata": {
        "id": "jITZhLkmY--J"
      },
      "source": [
        "### Connect to the AWS RDS instance and write each DataFrame to its table. "
      ]
    },
    {
      "cell_type": "code",
      "execution_count": null,
      "metadata": {
        "id": "7jiUvs1aY--L",
        "colab": {
          "base_uri": "https://localhost:8080/"
        },
        "outputId": "dac0c918-30f6-42e8-fccf-0e16e9d9466a"
      },
      "outputs": [
        {
          "name": "stdout",
          "output_type": "stream",
          "text": [
            "Enter database password··········\n"
          ]
        }
      ],
      "source": [
        "## Store environmental variable\n",
        "from getpass import getpass\n",
        "password = getpass('Enter database password')\n",
        "# Configure settings for RDS\n",
        "mode = \"append\"\n",
        "jdbc_url=\"jdbc:postgresql://amazonvinedatabase-1.c4tt58msfrhj.us-west-1.rds.amazonaws.com:5432/amazonvinedatabase-1\"\n",
        "config = {\"user\":\"postgres\", \n",
        "          \"password\": \"<password>\",\n",
        "          \"driver\":\"org.postgresql.Driver\"}"
      ]
    },
    {
      "cell_type": "code",
      "source": [
        "# Write review_id_df to table in RDS\n",
        "review_id_df.write.jdbc(url=jdbc_url, table='review_id_table', mode=mode, properties=config)"
      ],
      "metadata": {
        "id": "xs-RDB-ayU5r"
      },
      "execution_count": null,
      "outputs": []
    },
    {
      "cell_type": "code",
      "execution_count": null,
      "metadata": {
        "id": "1m3yzn-LY--U"
      },
      "outputs": [],
      "source": [
        "# Write products_df to table in RDS\n",
        "# about 3 min\n",
        "products_df.write.jdbc(url=jdbc_url, table='products_table', mode=mode, properties=config)"
      ]
    },
    {
      "cell_type": "code",
      "execution_count": null,
      "metadata": {
        "id": "KbXri15fY--Z"
      },
      "outputs": [],
      "source": [
        "# Write customers_df to table in RDS\n",
        "# 5 min 14 s\n",
        "customers_df.write.jdbc(url=jdbc_url, table='customers_table', mode=mode, properties=config)"
      ]
    },
    {
      "cell_type": "code",
      "execution_count": null,
      "metadata": {
        "id": "XdQknSHLY--e"
      },
      "outputs": [],
      "source": [
        "# Write vine_df to table in RDS\n",
        "# 11 minutes\n",
        "vine_df.write.jdbc(url=jdbc_url, table='vine_table', mode=mode, properties=config)"
      ]
    },
    {
      "cell_type": "code",
      "execution_count": null,
      "metadata": {
        "id": "Exuo6ebUsCqW"
      },
      "outputs": [],
      "source": [
        ""
      ]
    }
  ],
  "metadata": {
    "colab": {
      "name": "Vine_Review_Analysis.ipynb",
      "provenance": [],
      "collapsed_sections": []
    },
    "kernelspec": {
      "display_name": "Python 3",
      "name": "python3"
    },
    "language_info": {
      "name": "python"
    },
    "nteract": {
      "version": "0.12.3"
    }
  },
  "nbformat": 4,
  "nbformat_minor": 0
}